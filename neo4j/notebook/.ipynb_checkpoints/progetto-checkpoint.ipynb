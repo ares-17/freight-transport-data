{
 "cells": [
  {
   "cell_type": "code",
   "execution_count": 9,
   "id": "3417be96-df2b-40df-81f8-68d25aa1901b",
   "metadata": {
    "scrolled": true
   },
   "outputs": [],
   "source": [
    "from neo4j import GraphDatabase\n",
    "import folium\n",
    "import geopandas as gpd \n",
    "import matplotlib as plt"
   ]
  },
  {
   "cell_type": "code",
   "execution_count": 10,
   "id": "c9c99753-c4d3-4991-8a84-1b08750e205b",
   "metadata": {},
   "outputs": [],
   "source": [
    "url = \"bolt://neo4j\"\n",
    "username = \"neo4j\"\n",
    "password = \"admin\"\n",
    "\n",
    "driver = GraphDatabase.driver(url, auth=(\"neo4j\", \"admin\"), encrypted=False)"
   ]
  },
  {
   "cell_type": "code",
   "execution_count": 14,
   "id": "2a87eb8c-6bed-4b5c-aa04-b034c108f6c3",
   "metadata": {},
   "outputs": [],
   "source": [
    "query = \"\"\"\n",
    "    MATCH (n) detach delete n\n",
    "\"\"\"\n",
    "with driver.session() as session:\n",
    "    session.run(query)"
   ]
  },
  {
   "cell_type": "markdown",
   "id": "ac8cc666-4f8f-4a91-b60d-42ff0cd0ad14",
   "metadata": {},
   "source": [
    "# From Mongo to Neo4j"
   ]
  },
  {
   "cell_type": "code",
   "execution_count": 15,
   "id": "195fc9eb-d4ec-4eb9-9790-d7dfc68e7c10",
   "metadata": {},
   "outputs": [],
   "source": [
    "query = \"\"\"\n",
    "    CALL apoc.mongo.find('mongodb://mongo:27017/mydb.polygons', {name: 'bruxelles'}) YIELD value \n",
    "    WITH value.streets AS streets \n",
    "    UNWIND range(0, 100- 1) AS street_id \n",
    "    WITH streets[street_id] AS current \n",
    "    UNWIND range(0, size(current.coords) - 2) AS coord_id \n",
    "    WITH current.coords[coord_id] AS current_c, current.coords[coord_id + 1] AS next_c, current.traffic AS traffic \n",
    "    MERGE (c1:Coordinate {latitude: current_c[1], longitude: current_c[0], color: '#ffffff00'}) \n",
    "    MERGE (c2:Coordinate {latitude: next_c[1], longitude: next_c[0], color: '#ffffff00'}) \n",
    "    MERGE (c1)-[n:NEXT]->(c2) ON CREATE SET n.traffic = traffic ON MATCH SET n.traffic = traffic\n",
    "\"\"\"\n",
    "with driver.session() as session:\n",
    "    session.run(query)"
   ]
  },
  {
   "cell_type": "markdown",
   "id": "cb2ffb57-f14e-4365-a420-de46374774a5",
   "metadata": {
    "jp-MarkdownHeadingCollapsed": true
   },
   "source": [
    "## Map of streets only"
   ]
  },
  {
   "cell_type": "code",
   "execution_count": 16,
   "id": "f2bca222-6682-404e-9326-0432fa9d3867",
   "metadata": {},
   "outputs": [],
   "source": [
    "query = \"\"\"\n",
    "MATCH (c1:Coordinate)-[n:NEXT]->(c2:Coordinate)\n",
    "RETURN c1.latitude AS c1_lat, c1.longitude AS c1_lon, c2.latitude AS c2_lat, c2.longitude AS c2_lon\n",
    "\"\"\"\n",
    "with driver.session() as session:\n",
    "    result = session.run(query)\n",
    "    coordinates = [(record[\"c1_lat\"], record[\"c1_lon\"], record[\"c2_lat\"], record[\"c2_lon\"]) for record in result]\n"
   ]
  },
  {
   "cell_type": "code",
   "execution_count": null,
   "id": "1981f9c1-7b0b-42a4-8bcd-44b406b9cf3e",
   "metadata": {},
   "outputs": [],
   "source": [
    "m = folium.Map(location=[50.832697, 4.294337], zoom_start=12, tiles='cartodbpositron', control_scale=True, zoom_control=False, dragging=False, scrollWheelZoom=False)  # Imposta la posizione e lo zoom iniziale della mappa\n",
    "for coords in coordinates:\n",
    "    folium.PolyLine([(coords[0], coords[1]), (coords[2], coords[3])], color=\"blue\").add_to(m)\n",
    "m"
   ]
  },
  {
   "cell_type": "code",
   "execution_count": null,
   "id": "86a7700a-b24b-4bf8-8a1a-22a087953326",
   "metadata": {},
   "outputs": [],
   "source": []
  },
  {
   "cell_type": "markdown",
   "id": "7cf84efb-059c-4c2d-8af4-061efde9ad31",
   "metadata": {
    "jp-MarkdownHeadingCollapsed": true
   },
   "source": [
    "## Map of streets with traffic"
   ]
  },
  {
   "cell_type": "code",
   "execution_count": 21,
   "id": "7ee70137-df6f-4e1f-8a59-6cf236f17031",
   "metadata": {
    "scrolled": true
   },
   "outputs": [],
   "source": [
    "query = \"\"\"\n",
    "    MATCH (c1:Coordinate)-[n:NEXT]->(c2:Coordinate)\n",
    "    RETURN c1.latitude AS c1_lat, c1.longitude AS c1_lon, c2.latitude AS c2_lat, c2.longitude AS c2_lon, n.traffic as traffic\n",
    "\"\"\"\n",
    "with driver.session() as session:\n",
    "    result = session.run(query)\n",
    "    traffic = [(record[\"c1_lat\"], record[\"c1_lon\"], record[\"c2_lat\"], record[\"c2_lon\"], record[\"traffic\"]) for record in result]"
   ]
  },
  {
   "cell_type": "code",
   "execution_count": 22,
   "id": "061226a4-8ecc-48de-b15e-053997b0776e",
   "metadata": {},
   "outputs": [],
   "source": [
    "def assign_color(value):\n",
    "    if value < 0 or value > 100:\n",
    "        raise ValueError(\"Il valore deve essere compreso tra 0 e 5.\")\n",
    "\n",
    "    # Calcola il valore interpolato tra verde e rosso\n",
    "    red = int((1 - value / 10) * 255)\n",
    "    green = int((value / 10) * 255)\n",
    "    blue = 0\n",
    "\n",
    "    # Converti i valori RGB in formato esadecimale\n",
    "    color_hex = \"#{:02x}{:02x}{:02x}\".format(red, green, blue)\n",
    "\n",
    "    return color_hex"
   ]
  },
  {
   "cell_type": "code",
   "execution_count": null,
   "id": "d44092e7-f0ef-4634-8c22-ff46fc07d946",
   "metadata": {},
   "outputs": [],
   "source": [
    "m = folium.Map(location=[50.832697, 4.294337], zoom_start=14, tiles='cartodbpositron', control_scale=True, zoom_control=False, dragging=False, scrollWheelZoom=False)\n",
    "for coords in traffic:\n",
    "    color = assign_color(coords[4])\n",
    "    folium.PolyLine([(coords[0], coords[1]), (coords[2], coords[3])], color=color, weight=coords[4]).add_to(m)\n",
    "m"
   ]
  },
  {
   "cell_type": "code",
   "execution_count": null,
   "id": "c9ac861f-0526-498a-a535-5cefff232b07",
   "metadata": {},
   "outputs": [],
   "source": []
  }
 ],
 "metadata": {
  "kernelspec": {
   "display_name": "Python 3 (ipykernel)",
   "language": "python",
   "name": "python3"
  },
  "language_info": {
   "codemirror_mode": {
    "name": "ipython",
    "version": 3
   },
   "file_extension": ".py",
   "mimetype": "text/x-python",
   "name": "python",
   "nbconvert_exporter": "python",
   "pygments_lexer": "ipython3",
   "version": "3.11.4"
  }
 },
 "nbformat": 4,
 "nbformat_minor": 5
}
